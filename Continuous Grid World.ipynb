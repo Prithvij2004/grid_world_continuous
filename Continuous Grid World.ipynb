{
 "cells": [
  {
   "cell_type": "code",
   "execution_count": 1,
   "id": "59b47232",
   "metadata": {},
   "outputs": [],
   "source": [
    "import numpy as np\n",
    "import pandas as pd\n",
    "import random"
   ]
  },
  {
   "cell_type": "code",
   "execution_count": 2,
   "id": "3f356488",
   "metadata": {},
   "outputs": [],
   "source": [
    "class Continuous_gridWorld:\n",
    "    def __init__(self, blocked_center):\n",
    "        self.yaxis = 100\n",
    "        self.xaxis = 100\n",
    "        self.blocked_center = blocked_center\n",
    "        self.initial_state = np.array([(3, 3), (3, 4), (3, 5), (4, 3), (4, 4), (4, 5), (5, 3), (5, 4), (5, 5)])\n",
    "    \n",
    "    def create_blocked(self):\n",
    "        self.blocked_list = []\n",
    "        for i in self.blocked_center:\n",
    "            for j in range(i[0]-6, i[0] + 5):\n",
    "                for k in range(i[1] - 6, i[1] + 5):\n",
    "                    if k < self.xaxis or j < self.yaxis or k >= 0 or j >= 0:\n",
    "                        if k not in self.blocked_list:\n",
    "                            self.blocked_list.append((j,k))\n",
    "        return self.blocked_list  \n",
    "    \n",
    "    def show_world(self):\n",
    "        grid = np.zeros([self.xaxis, self.yaxis])\n",
    "        for i in self.blocked_list:\n",
    "            grid[i[0]][i[1]] = 1\n",
    "        return grid\n",
    "    \n",
    "    def cost_movement(self, state):\n",
    "        for i in state:\n",
    "            if i in self.blocked_list:\n",
    "                cost = 1000\n",
    "            else:\n",
    "                cost = 1\n",
    "    \n",
    "    def reset(self):\n",
    "        self.state = self.initial_state\n",
    "        return self.state\n",
    "    \n",
    "    def transition_function(self, action):\n",
    "        if action == 'L':\n",
    "            nxtState = [(s[0] - 10 , s[1]) for s in self.state if s[0] - 10 >= 0]\n",
    "        elif action == 'R':\n",
    "            nxtState = [(s[0] + 10 , s[1]) for s in self.state if s[0] + 10 <= self.xaxis - 1]\n",
    "        elif action == 'U':\n",
    "            nxtState = [(s[0], s[1] + 10) for s in self.state if s[1] + 10 <= self.yaxis - 1]\n",
    "        else:\n",
    "            nxtState = [(s[0], s[1] - 10) for s in self.state if s[1] - 10 >= 0]\n",
    "        \n",
    "        for s in self.state:\n",
    "            if (s[0] >= 0) and (s[0] <= self.xaxis - 1):\n",
    "                if (s[1] >= 0) and (s[1] <= self.yaxis - 1):\n",
    "                    return nxtState\n",
    "        return self.state\n",
    "    \n",
    "    def terminal_state(self):\n",
    "        terminal_state = []\n",
    "        for i in range(20):\n",
    "            for j in range(20):\n",
    "                terminal_state.append([i,j])\n",
    "        return terminal_state\n",
    "    \n",
    "class Agent:\n",
    "    def __init__(self, gamma, alpha):\n",
    "        self.gamma = gamma\n",
    "        self.alpha = alpha\n",
    "        world = Continuous_gridWorld()\n",
    "        self.actions = ['L', 'R', 'U', 'D']\n",
    "        \n",
    "        self.qtable = []\n",
    "        for i in range(world.xaxis):\n",
    "            self.qtable.append([])\n",
    "            for j in range(world.yaxis):\n",
    "                self.qtable[i].append([])\n",
    "                for k in range(4):\n",
    "                    self.qtable[i][j].append(0)\n",
    "    \n",
    "    def action_selection(self, epsilon, state):\n",
    "        if random.random <= epsilon:\n",
    "            action = random.randrange(self.actions)\n",
    "        else:\n",
    "            action_index = argmax(q_value[state[4]])\n",
    "            action = self.actions[action_index]\n",
    "        return action\n",
    "    \n",
    "    def q_table(self, state, action):\n",
    "        \n",
    "    \n",
    "    def play(self, alpha = 0.9, gamma = 0.2, episode = 500):\n",
    "        for z in range(epsiode):\n",
    "            "
   ]
  },
  {
   "cell_type": "code",
   "execution_count": 3,
   "id": "46006846",
   "metadata": {
    "scrolled": true
   },
   "outputs": [
    {
     "name": "stdout",
     "output_type": "stream",
     "text": [
      "[[0. 0. 0. ... 0. 0. 0.]\n",
      " [0. 0. 0. ... 0. 0. 0.]\n",
      " [0. 0. 0. ... 0. 0. 0.]\n",
      " ...\n",
      " [0. 0. 0. ... 0. 0. 0.]\n",
      " [0. 0. 0. ... 0. 0. 0.]\n",
      " [0. 0. 0. ... 0. 0. 0.]]\n"
     ]
    }
   ],
   "source": [
    "x = Continuous_gridWorld([(50, 50), (60, 50), (70, 50), (90, 50), (60,65), (60, 75), (60, 85), (60, 95)] )\n",
    "y = x.create_blocked()\n",
    "# print(y[0])\n",
    "z = x.show_world()\n",
    "print(z)"
   ]
  },
  {
   "cell_type": "code",
   "execution_count": null,
   "id": "1246bb76",
   "metadata": {},
   "outputs": [],
   "source": []
  },
  {
   "cell_type": "code",
   "execution_count": null,
   "id": "5d967c70",
   "metadata": {},
   "outputs": [],
   "source": []
  }
 ],
 "metadata": {
  "kernelspec": {
   "display_name": "Python 3 (ipykernel)",
   "language": "python",
   "name": "python3"
  },
  "language_info": {
   "codemirror_mode": {
    "name": "ipython",
    "version": 3
   },
   "file_extension": ".py",
   "mimetype": "text/x-python",
   "name": "python",
   "nbconvert_exporter": "python",
   "pygments_lexer": "ipython3",
   "version": "3.8.3"
  }
 },
 "nbformat": 4,
 "nbformat_minor": 5
}
